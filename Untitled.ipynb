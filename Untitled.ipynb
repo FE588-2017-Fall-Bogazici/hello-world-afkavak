{
 "cells": [
  {
   "cell_type": "code",
   "execution_count": 1,
   "metadata": {
    "scrolled": true
   },
   "outputs": [
    {
     "name": "stdout",
     "output_type": "stream",
     "text": [
      "AhmetFarukKavak\n"
     ]
    }
   ],
   "source": [
    "print('AhmetFarukKavak')"
   ]
  },
  {
   "cell_type": "code",
   "execution_count": 12,
   "metadata": {},
   "outputs": [
    {
     "name": "stdout",
     "output_type": "stream",
     "text": [
      "f( 0.1 ) =  -3.69\n",
      "f( 0.2 ) =  -3.36\n",
      "f( 0.3 ) =  -3.0100000000000002\n",
      "f( 0.4 ) =  -2.6399999999999997\n",
      "f( 0.5 ) =  -2.25\n",
      "f( 0.6 ) =  -1.8400000000000003\n",
      "f( 0.7 ) =  -1.4100000000000006\n",
      "f( 0.8 ) =  -0.9599999999999995\n",
      "f( 0.9 ) =  -0.48999999999999977\n",
      "f( 1.0 ) =  0.0\n"
     ]
    }
   ],
   "source": [
    "for i in range(1,11):\n",
    "    print('f(',i/10,') = ',(i/10)**2+3*(i/10)-4)"
   ]
  },
  {
   "cell_type": "code",
   "execution_count": 14,
   "metadata": {},
   "outputs": [
    {
     "data": {
      "text/plain": [
       "1.41424560546875"
      ]
     },
     "execution_count": 14,
     "metadata": {},
     "output_type": "execute_result"
    }
   ],
   "source": [
    "## bi-section sample\n",
    "upper=2\n",
    "lower=0\n",
    "target=.0001\n",
    "for i in range(1,1000):\n",
    "    x=(upper+lower)/2\n",
    "    f=x**2-2\n",
    "    if(f>0):\n",
    "        upper=x\n",
    "    else:\n",
    "        lower=x\n",
    "    if((upper-lower)<target):\n",
    "        break\n",
    "upper"
   ]
  }
 ],
 "metadata": {
  "kernelspec": {
   "display_name": "Python 3",
   "language": "python",
   "name": "python3"
  },
  "language_info": {
   "codemirror_mode": {
    "name": "ipython",
    "version": 3
   },
   "file_extension": ".py",
   "mimetype": "text/x-python",
   "name": "python",
   "nbconvert_exporter": "python",
   "pygments_lexer": "ipython3",
   "version": "3.6.1"
  }
 },
 "nbformat": 4,
 "nbformat_minor": 2
}
