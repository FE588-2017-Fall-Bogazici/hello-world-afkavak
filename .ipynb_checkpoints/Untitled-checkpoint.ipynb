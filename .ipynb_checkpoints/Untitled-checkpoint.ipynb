{
 "cells": [
  {
   "cell_type": "code",
   "execution_count": 1,
   "metadata": {
    "scrolled": false
   },
   "outputs": [
    {
     "name": "stdout",
     "output_type": "stream",
     "text": [
      "AhmetFarukKavak\n"
     ]
    }
   ],
   "source": [
    "print('AhmetFarukKavak')"
   ]
  },
  {
   "cell_type": "code",
   "execution_count": 2,
   "metadata": {},
   "outputs": [
    {
     "name": "stdout",
     "output_type": "stream",
     "text": [
      "-3.69\n",
      "-3.36\n",
      "-3.0100000000000002\n",
      "-2.6399999999999997\n",
      "-2.25\n",
      "-1.8400000000000003\n",
      "-1.4100000000000006\n",
      "-0.9599999999999995\n",
      "-0.48999999999999977\n",
      "0.0\n"
     ]
    }
   ],
   "source": [
    "for i in range(1,11):\n",
    "    print((i/10)**2+3*(i/10)-4)"
   ]
  }
 ],
 "metadata": {
  "kernelspec": {
   "display_name": "Python 3",
   "language": "python",
   "name": "python3"
  },
  "language_info": {
   "codemirror_mode": {
    "name": "ipython",
    "version": 3
   },
   "file_extension": ".py",
   "mimetype": "text/x-python",
   "name": "python",
   "nbconvert_exporter": "python",
   "pygments_lexer": "ipython3",
   "version": "3.6.1"
  }
 },
 "nbformat": 4,
 "nbformat_minor": 2
}
